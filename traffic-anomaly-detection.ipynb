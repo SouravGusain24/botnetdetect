{
 "cells": [
  {
   "cell_type": "code",
   "execution_count": 1,
   "id": "f69aee79",
   "metadata": {
    "_cell_guid": "b1076dfc-b9ad-4769-8c92-a6c4dae69d19",
    "_uuid": "8f2839f25d086af736a60e9eeb907d3b93b6e0e5",
    "execution": {
     "iopub.execute_input": "2025-01-02T18:31:00.145672Z",
     "iopub.status.busy": "2025-01-02T18:31:00.145272Z",
     "iopub.status.idle": "2025-01-02T18:31:11.499653Z",
     "shell.execute_reply": "2025-01-02T18:31:11.498487Z"
    },
    "papermill": {
     "duration": 11.364065,
     "end_time": "2025-01-02T18:31:11.501580",
     "exception": false,
     "start_time": "2025-01-02T18:31:00.137515",
     "status": "completed"
    },
    "tags": []
   },
   "outputs": [],
   "source": [
    "import pandas as pd\n",
    "from sklearn.preprocessing import OneHotEncoder, StandardScaler\n",
    "from sklearn.compose import ColumnTransformer\n",
    "import tensorflow as tf\n",
    "from tensorflow.keras import layers, models\n",
    "import matplotlib.pyplot as plt"
   ]
  },
  {
   "cell_type": "markdown",
   "id": "3e1cca08",
   "metadata": {
    "papermill": {
     "duration": 0.006023,
     "end_time": "2025-01-02T18:31:11.514539",
     "exception": false,
     "start_time": "2025-01-02T18:31:11.508516",
     "status": "completed"
    },
    "tags": []
   },
   "source": [
    "# Load data\n"
   ]
  },
  {
   "cell_type": "code",
   "execution_count": 2,
   "id": "eafe8ece",
   "metadata": {
    "execution": {
     "iopub.execute_input": "2025-01-02T18:31:11.527892Z",
     "iopub.status.busy": "2025-01-02T18:31:11.527054Z",
     "iopub.status.idle": "2025-01-02T18:31:13.236610Z",
     "shell.execute_reply": "2025-01-02T18:31:13.235451Z"
    },
    "papermill": {
     "duration": 1.718529,
     "end_time": "2025-01-02T18:31:13.238765",
     "exception": false,
     "start_time": "2025-01-02T18:31:11.520236",
     "status": "completed"
    },
    "tags": []
   },
   "outputs": [],
   "source": [
    "train = pd.read_csv('/kaggle/input/unsw-nb15/UNSW_NB15_training-set.csv')\n",
    "test = pd.read_csv('/kaggle/input/unsw-nb15/UNSW_NB15_testing-set.csv')\n",
    "\n",
    "# Identify label column\n",
    "label_column = 'label'"
   ]
  },
  {
   "cell_type": "markdown",
   "id": "16a15894",
   "metadata": {
    "papermill": {
     "duration": 0.00537,
     "end_time": "2025-01-02T18:31:13.250242",
     "exception": false,
     "start_time": "2025-01-02T18:31:13.244872",
     "status": "completed"
    },
    "tags": []
   },
   "source": [
    "# Inspect unique labels before encoding\n"
   ]
  },
  {
   "cell_type": "code",
   "execution_count": 3,
   "id": "cc9910db",
   "metadata": {
    "execution": {
     "iopub.execute_input": "2025-01-02T18:31:13.262921Z",
     "iopub.status.busy": "2025-01-02T18:31:13.262498Z",
     "iopub.status.idle": "2025-01-02T18:31:13.277960Z",
     "shell.execute_reply": "2025-01-02T18:31:13.276837Z"
    },
    "papermill": {
     "duration": 0.023843,
     "end_time": "2025-01-02T18:31:13.279801",
     "exception": false,
     "start_time": "2025-01-02T18:31:13.255958",
     "status": "completed"
    },
    "tags": []
   },
   "outputs": [
    {
     "name": "stdout",
     "output_type": "stream",
     "text": [
      "Unique labels in training set (label): [0 1]\n",
      "Unique labels in testing set (label): [0 1]\n"
     ]
    }
   ],
   "source": [
    "print(f\"Unique labels in training set ({label_column}):\", train[label_column].unique())\n",
    "print(f\"Unique labels in testing set ({label_column}):\", test[label_column].unique())"
   ]
  },
  {
   "cell_type": "markdown",
   "id": "92f71637",
   "metadata": {
    "papermill": {
     "duration": 0.005398,
     "end_time": "2025-01-02T18:31:13.291335",
     "exception": false,
     "start_time": "2025-01-02T18:31:13.285937",
     "status": "completed"
    },
    "tags": []
   },
   "source": [
    "# Encode 'Label' column for binary classification\n",
    "### Assuming 'Normal' is the only non-attack label\n"
   ]
  },
  {
   "cell_type": "code",
   "execution_count": 4,
   "id": "1f05a041",
   "metadata": {
    "execution": {
     "iopub.execute_input": "2025-01-02T18:31:13.304176Z",
     "iopub.status.busy": "2025-01-02T18:31:13.303831Z",
     "iopub.status.idle": "2025-01-02T18:31:13.408794Z",
     "shell.execute_reply": "2025-01-02T18:31:13.407835Z"
    },
    "papermill": {
     "duration": 0.113497,
     "end_time": "2025-01-02T18:31:13.410583",
     "exception": false,
     "start_time": "2025-01-02T18:31:13.297086",
     "status": "completed"
    },
    "tags": []
   },
   "outputs": [],
   "source": [
    "train[label_column] = train[label_column].apply(lambda x: 0 if x == 'Normal' else 1)\n",
    "test[label_column] = test[label_column].apply(lambda x: 0 if x == 'Normal' else 1)"
   ]
  },
  {
   "cell_type": "markdown",
   "id": "adf0a933",
   "metadata": {
    "papermill": {
     "duration": 0.005428,
     "end_time": "2025-01-02T18:31:13.422099",
     "exception": false,
     "start_time": "2025-01-02T18:31:13.416671",
     "status": "completed"
    },
    "tags": []
   },
   "source": [
    "# Confirm encoding"
   ]
  },
  {
   "cell_type": "code",
   "execution_count": 5,
   "id": "aad670b7",
   "metadata": {
    "execution": {
     "iopub.execute_input": "2025-01-02T18:31:13.434627Z",
     "iopub.status.busy": "2025-01-02T18:31:13.434234Z",
     "iopub.status.idle": "2025-01-02T18:31:13.440814Z",
     "shell.execute_reply": "2025-01-02T18:31:13.439724Z"
    },
    "papermill": {
     "duration": 0.014909,
     "end_time": "2025-01-02T18:31:13.442682",
     "exception": false,
     "start_time": "2025-01-02T18:31:13.427773",
     "status": "completed"
    },
    "tags": []
   },
   "outputs": [
    {
     "name": "stdout",
     "output_type": "stream",
     "text": [
      "Unique labels after encoding (label): [1]\n"
     ]
    }
   ],
   "source": [
    "print(f\"Unique labels after encoding ({label_column}):\", train[label_column].unique())\n"
   ]
  },
  {
   "cell_type": "markdown",
   "id": "6a88befe",
   "metadata": {
    "papermill": {
     "duration": 0.005553,
     "end_time": "2025-01-02T18:31:13.454386",
     "exception": false,
     "start_time": "2025-01-02T18:31:13.448833",
     "status": "completed"
    },
    "tags": []
   },
   "source": [
    "# Define categorical and numerical features\n",
    "# Include 'attack_cat' and any other categorical features"
   ]
  },
  {
   "cell_type": "code",
   "execution_count": 6,
   "id": "290decc2",
   "metadata": {
    "execution": {
     "iopub.execute_input": "2025-01-02T18:31:13.468164Z",
     "iopub.status.busy": "2025-01-02T18:31:13.467778Z",
     "iopub.status.idle": "2025-01-02T18:31:13.472371Z",
     "shell.execute_reply": "2025-01-02T18:31:13.471457Z"
    },
    "papermill": {
     "duration": 0.013804,
     "end_time": "2025-01-02T18:31:13.473933",
     "exception": false,
     "start_time": "2025-01-02T18:31:13.460129",
     "status": "completed"
    },
    "tags": []
   },
   "outputs": [],
   "source": [
    "categorical = ['proto', 'service', 'state', 'attack_cat']\n",
    "numerical = [col for col in train.columns if col not in categorical + [label_column]]"
   ]
  },
  {
   "cell_type": "markdown",
   "id": "c2302882",
   "metadata": {
    "papermill": {
     "duration": 0.005486,
     "end_time": "2025-01-02T18:31:13.485615",
     "exception": false,
     "start_time": "2025-01-02T18:31:13.480129",
     "status": "completed"
    },
    "tags": []
   },
   "source": [
    "# Verify no categorical features are missing\n"
   ]
  },
  {
   "cell_type": "code",
   "execution_count": 7,
   "id": "03942864",
   "metadata": {
    "execution": {
     "iopub.execute_input": "2025-01-02T18:31:13.498326Z",
     "iopub.status.busy": "2025-01-02T18:31:13.498000Z",
     "iopub.status.idle": "2025-01-02T18:31:13.503877Z",
     "shell.execute_reply": "2025-01-02T18:31:13.502818Z"
    },
    "papermill": {
     "duration": 0.014222,
     "end_time": "2025-01-02T18:31:13.505503",
     "exception": false,
     "start_time": "2025-01-02T18:31:13.491281",
     "status": "completed"
    },
    "tags": []
   },
   "outputs": [
    {
     "name": "stdout",
     "output_type": "stream",
     "text": [
      "Categorical features: ['proto', 'service', 'state', 'attack_cat']\n",
      "Numerical features: ['id', 'dur', 'spkts', 'dpkts', 'sbytes', 'dbytes', 'rate', 'sttl', 'dttl', 'sload', 'dload', 'sloss', 'dloss', 'sinpkt', 'dinpkt', 'sjit', 'djit', 'swin', 'stcpb', 'dtcpb', 'dwin', 'tcprtt', 'synack', 'ackdat', 'smean', 'dmean', 'trans_depth', 'response_body_len', 'ct_srv_src', 'ct_state_ttl', 'ct_dst_ltm', 'ct_src_dport_ltm', 'ct_dst_sport_ltm', 'ct_dst_src_ltm', 'is_ftp_login', 'ct_ftp_cmd', 'ct_flw_http_mthd', 'ct_src_ltm', 'ct_srv_dst', 'is_sm_ips_ports']\n"
     ]
    }
   ],
   "source": [
    "print(\"Categorical features:\", categorical)\n",
    "print(\"Numerical features:\", numerical)"
   ]
  },
  {
   "cell_type": "markdown",
   "id": "0ce1c110",
   "metadata": {
    "papermill": {
     "duration": 0.005461,
     "end_time": "2025-01-02T18:31:13.517109",
     "exception": false,
     "start_time": "2025-01-02T18:31:13.511648",
     "status": "completed"
    },
    "tags": []
   },
   "source": [
    "# Inspect the first few rows to identify any unexpected categorical data\n"
   ]
  },
  {
   "cell_type": "code",
   "execution_count": 8,
   "id": "a9bd3f17",
   "metadata": {
    "execution": {
     "iopub.execute_input": "2025-01-02T18:31:13.530491Z",
     "iopub.status.busy": "2025-01-02T18:31:13.530142Z",
     "iopub.status.idle": "2025-01-02T18:31:13.557191Z",
     "shell.execute_reply": "2025-01-02T18:31:13.555751Z"
    },
    "papermill": {
     "duration": 0.035899,
     "end_time": "2025-01-02T18:31:13.558921",
     "exception": false,
     "start_time": "2025-01-02T18:31:13.523022",
     "status": "completed"
    },
    "tags": []
   },
   "outputs": [
    {
     "name": "stdout",
     "output_type": "stream",
     "text": [
      "Training set sample:\n",
      "   id       dur proto service state  spkts  dpkts  sbytes  dbytes  \\\n",
      "0   1  0.000011   udp       -   INT      2      0     496       0   \n",
      "1   2  0.000008   udp       -   INT      2      0    1762       0   \n",
      "2   3  0.000005   udp       -   INT      2      0    1068       0   \n",
      "3   4  0.000006   udp       -   INT      2      0     900       0   \n",
      "4   5  0.000010   udp       -   INT      2      0    2126       0   \n",
      "\n",
      "          rate  ...  ct_dst_sport_ltm  ct_dst_src_ltm  is_ftp_login  \\\n",
      "0   90909.0902  ...                 1               2             0   \n",
      "1  125000.0003  ...                 1               2             0   \n",
      "2  200000.0051  ...                 1               3             0   \n",
      "3  166666.6608  ...                 1               3             0   \n",
      "4  100000.0025  ...                 1               3             0   \n",
      "\n",
      "   ct_ftp_cmd  ct_flw_http_mthd  ct_src_ltm  ct_srv_dst  is_sm_ips_ports  \\\n",
      "0           0                 0           1           2                0   \n",
      "1           0                 0           1           2                0   \n",
      "2           0                 0           1           3                0   \n",
      "3           0                 0           2           3                0   \n",
      "4           0                 0           2           3                0   \n",
      "\n",
      "   attack_cat  label  \n",
      "0      Normal      1  \n",
      "1      Normal      1  \n",
      "2      Normal      1  \n",
      "3      Normal      1  \n",
      "4      Normal      1  \n",
      "\n",
      "[5 rows x 45 columns]\n",
      "Testing set sample:\n",
      "   id       dur proto service state  spkts  dpkts  sbytes  dbytes       rate  \\\n",
      "0   1  0.121478   tcp       -   FIN      6      4     258     172  74.087490   \n",
      "1   2  0.649902   tcp       -   FIN     14     38     734   42014  78.473372   \n",
      "2   3  1.623129   tcp       -   FIN      8     16     364   13186  14.170161   \n",
      "3   4  1.681642   tcp     ftp   FIN     12     12     628     770  13.677108   \n",
      "4   5  0.449454   tcp       -   FIN     10      6     534     268  33.373826   \n",
      "\n",
      "   ...  ct_dst_sport_ltm  ct_dst_src_ltm  is_ftp_login  ct_ftp_cmd  \\\n",
      "0  ...                 1               1             0           0   \n",
      "1  ...                 1               2             0           0   \n",
      "2  ...                 1               3             0           0   \n",
      "3  ...                 1               3             1           1   \n",
      "4  ...                 1              40             0           0   \n",
      "\n",
      "   ct_flw_http_mthd  ct_src_ltm  ct_srv_dst  is_sm_ips_ports  attack_cat  \\\n",
      "0                 0           1           1                0      Normal   \n",
      "1                 0           1           6                0      Normal   \n",
      "2                 0           2           6                0      Normal   \n",
      "3                 0           2           1                0      Normal   \n",
      "4                 0           2          39                0      Normal   \n",
      "\n",
      "   label  \n",
      "0      1  \n",
      "1      1  \n",
      "2      1  \n",
      "3      1  \n",
      "4      1  \n",
      "\n",
      "[5 rows x 45 columns]\n"
     ]
    }
   ],
   "source": [
    "print(\"Training set sample:\")\n",
    "print(train.head())\n",
    "\n",
    "print(\"Testing set sample:\")\n",
    "print(test.head())\n"
   ]
  },
  {
   "cell_type": "markdown",
   "id": "087654ce",
   "metadata": {
    "papermill": {
     "duration": 0.005698,
     "end_time": "2025-01-02T18:31:13.571078",
     "exception": false,
     "start_time": "2025-01-02T18:31:13.565380",
     "status": "completed"
    },
    "tags": []
   },
   "source": [
    "# Define ColumnTransformer for preprocessing"
   ]
  },
  {
   "cell_type": "code",
   "execution_count": 9,
   "id": "ee97b602",
   "metadata": {
    "execution": {
     "iopub.execute_input": "2025-01-02T18:31:13.584245Z",
     "iopub.status.busy": "2025-01-02T18:31:13.583876Z",
     "iopub.status.idle": "2025-01-02T18:31:13.588260Z",
     "shell.execute_reply": "2025-01-02T18:31:13.587355Z"
    },
    "papermill": {
     "duration": 0.012938,
     "end_time": "2025-01-02T18:31:13.590013",
     "exception": false,
     "start_time": "2025-01-02T18:31:13.577075",
     "status": "completed"
    },
    "tags": []
   },
   "outputs": [],
   "source": [
    "preprocessor = ColumnTransformer(\n",
    "    transformers=[\n",
    "        ('cat', OneHotEncoder(handle_unknown='ignore'), categorical),\n",
    "        ('num', StandardScaler(), numerical)\n",
    "    ]\n",
    ")"
   ]
  },
  {
   "cell_type": "markdown",
   "id": "63759a8a",
   "metadata": {
    "papermill": {
     "duration": 0.005646,
     "end_time": "2025-01-02T18:31:13.601744",
     "exception": false,
     "start_time": "2025-01-02T18:31:13.596098",
     "status": "completed"
    },
    "tags": []
   },
   "source": [
    "# Separate features and labels"
   ]
  },
  {
   "cell_type": "code",
   "execution_count": 10,
   "id": "198a5a29",
   "metadata": {
    "execution": {
     "iopub.execute_input": "2025-01-02T18:31:13.615000Z",
     "iopub.status.busy": "2025-01-02T18:31:13.614553Z",
     "iopub.status.idle": "2025-01-02T18:31:13.645222Z",
     "shell.execute_reply": "2025-01-02T18:31:13.644102Z"
    },
    "papermill": {
     "duration": 0.039714,
     "end_time": "2025-01-02T18:31:13.647287",
     "exception": false,
     "start_time": "2025-01-02T18:31:13.607573",
     "status": "completed"
    },
    "tags": []
   },
   "outputs": [],
   "source": [
    "X_train = train.drop([label_column], axis=1)\n",
    "y_train = train[label_column]\n",
    "X_test = test.drop([label_column], axis=1)\n",
    "y_test = test[label_column]\n"
   ]
  },
  {
   "cell_type": "markdown",
   "id": "46c7a611",
   "metadata": {
    "papermill": {
     "duration": 0.005689,
     "end_time": "2025-01-02T18:31:13.659127",
     "exception": false,
     "start_time": "2025-01-02T18:31:13.653438",
     "status": "completed"
    },
    "tags": []
   },
   "source": [
    "# Fit and transform the training data, transform the test data"
   ]
  },
  {
   "cell_type": "code",
   "execution_count": 11,
   "id": "521c8b49",
   "metadata": {
    "execution": {
     "iopub.execute_input": "2025-01-02T18:31:13.672393Z",
     "iopub.status.busy": "2025-01-02T18:31:13.672026Z",
     "iopub.status.idle": "2025-01-02T18:31:14.828872Z",
     "shell.execute_reply": "2025-01-02T18:31:14.827599Z"
    },
    "papermill": {
     "duration": 1.165781,
     "end_time": "2025-01-02T18:31:14.830947",
     "exception": false,
     "start_time": "2025-01-02T18:31:13.665166",
     "status": "completed"
    },
    "tags": []
   },
   "outputs": [],
   "source": [
    "X_train_processed = preprocessor.fit_transform(X_train)\n",
    "X_test_processed = preprocessor.transform(X_test)"
   ]
  },
  {
   "cell_type": "markdown",
   "id": "714daa97",
   "metadata": {
    "papermill": {
     "duration": 0.005853,
     "end_time": "2025-01-02T18:31:14.843308",
     "exception": false,
     "start_time": "2025-01-02T18:31:14.837455",
     "status": "completed"
    },
    "tags": []
   },
   "source": [
    "# Verify the transformed data"
   ]
  },
  {
   "cell_type": "code",
   "execution_count": 12,
   "id": "e752edbe",
   "metadata": {
    "execution": {
     "iopub.execute_input": "2025-01-02T18:31:14.857070Z",
     "iopub.status.busy": "2025-01-02T18:31:14.856644Z",
     "iopub.status.idle": "2025-01-02T18:31:14.862354Z",
     "shell.execute_reply": "2025-01-02T18:31:14.861289Z"
    },
    "papermill": {
     "duration": 0.014721,
     "end_time": "2025-01-02T18:31:14.864002",
     "exception": false,
     "start_time": "2025-01-02T18:31:14.849281",
     "status": "completed"
    },
    "tags": []
   },
   "outputs": [
    {
     "name": "stdout",
     "output_type": "stream",
     "text": [
      "Processed training features shape: (82332, 201)\n",
      "Processed testing features shape: (175341, 201)\n"
     ]
    }
   ],
   "source": [
    "print(f\"Processed training features shape: {X_train_processed.shape}\")\n",
    "print(f\"Processed testing features shape: {X_test_processed.shape}\")"
   ]
  },
  {
   "cell_type": "markdown",
   "id": "3170a394",
   "metadata": {
    "papermill": {
     "duration": 0.005921,
     "end_time": "2025-01-02T18:31:14.876147",
     "exception": false,
     "start_time": "2025-01-02T18:31:14.870226",
     "status": "completed"
    },
    "tags": []
   },
   "source": [
    "# Define the TensorFlow model"
   ]
  },
  {
   "cell_type": "code",
   "execution_count": 13,
   "id": "1dda177a",
   "metadata": {
    "execution": {
     "iopub.execute_input": "2025-01-02T18:31:14.889626Z",
     "iopub.status.busy": "2025-01-02T18:31:14.889264Z",
     "iopub.status.idle": "2025-01-02T18:31:14.998636Z",
     "shell.execute_reply": "2025-01-02T18:31:14.997609Z"
    },
    "papermill": {
     "duration": 0.118505,
     "end_time": "2025-01-02T18:31:15.000675",
     "exception": false,
     "start_time": "2025-01-02T18:31:14.882170",
     "status": "completed"
    },
    "tags": []
   },
   "outputs": [],
   "source": [
    "input_dim = X_train_processed.shape[1]\n",
    "num_classes = 1 \n",
    "\n",
    "model = models.Sequential([\n",
    "    layers.Input(shape=(input_dim,)),\n",
    "    layers.Dense(128, activation='relu'),\n",
    "    layers.Dropout(0.3),\n",
    "    layers.Dense(64, activation='relu'),\n",
    "    layers.Dropout(0.3),\n",
    "    layers.Dense(32, activation='relu'),\n",
    "    layers.Dense(num_classes, activation='sigmoid')\n",
    "])\n",
    "# Compile the model\n",
    "model.compile(\n",
    "    optimizer='adam',\n",
    "    loss='binary_crossentropy',\n",
    "    metrics=['accuracy']\n",
    ")\n"
   ]
  },
  {
   "cell_type": "markdown",
   "id": "1e3653b3",
   "metadata": {
    "papermill": {
     "duration": 0.005613,
     "end_time": "2025-01-02T18:31:15.012434",
     "exception": false,
     "start_time": "2025-01-02T18:31:15.006821",
     "status": "completed"
    },
    "tags": []
   },
   "source": [
    "# Train the model with Early Stopping"
   ]
  },
  {
   "cell_type": "code",
   "execution_count": 14,
   "id": "6bf72bb6",
   "metadata": {
    "execution": {
     "iopub.execute_input": "2025-01-02T18:31:15.025794Z",
     "iopub.status.busy": "2025-01-02T18:31:15.025393Z",
     "iopub.status.idle": "2025-01-02T18:36:27.583920Z",
     "shell.execute_reply": "2025-01-02T18:36:27.582744Z"
    },
    "papermill": {
     "duration": 312.710362,
     "end_time": "2025-01-02T18:36:27.728833",
     "exception": false,
     "start_time": "2025-01-02T18:31:15.018471",
     "status": "completed"
    },
    "tags": []
   },
   "outputs": [
    {
     "name": "stdout",
     "output_type": "stream",
     "text": [
      "Epoch 1/30\n",
      "\u001b[1m1287/1287\u001b[0m \u001b[32m━━━━━━━━━━━━━━━━━━━━\u001b[0m\u001b[37m\u001b[0m \u001b[1m13s\u001b[0m 9ms/step - accuracy: 0.9837 - loss: 0.0419 - val_accuracy: 1.0000 - val_loss: 3.2523e-07\n",
      "Epoch 2/30\n",
      "\u001b[1m1287/1287\u001b[0m \u001b[32m━━━━━━━━━━━━━━━━━━━━\u001b[0m\u001b[37m\u001b[0m \u001b[1m10s\u001b[0m 8ms/step - accuracy: 1.0000 - loss: 7.5060e-06 - val_accuracy: 1.0000 - val_loss: 3.1015e-08\n",
      "Epoch 3/30\n",
      "\u001b[1m1287/1287\u001b[0m \u001b[32m━━━━━━━━━━━━━━━━━━━━\u001b[0m\u001b[37m\u001b[0m \u001b[1m11s\u001b[0m 8ms/step - accuracy: 1.0000 - loss: 2.4783e-06 - val_accuracy: 1.0000 - val_loss: 5.8957e-09\n",
      "Epoch 4/30\n",
      "\u001b[1m1287/1287\u001b[0m \u001b[32m━━━━━━━━━━━━━━━━━━━━\u001b[0m\u001b[37m\u001b[0m \u001b[1m11s\u001b[0m 8ms/step - accuracy: 1.0000 - loss: 9.5932e-07 - val_accuracy: 1.0000 - val_loss: 1.6080e-09\n",
      "Epoch 5/30\n",
      "\u001b[1m1287/1287\u001b[0m \u001b[32m━━━━━━━━━━━━━━━━━━━━\u001b[0m\u001b[37m\u001b[0m \u001b[1m11s\u001b[0m 8ms/step - accuracy: 1.0000 - loss: 3.7814e-07 - val_accuracy: 1.0000 - val_loss: 5.0287e-10\n",
      "Epoch 6/30\n",
      "\u001b[1m1287/1287\u001b[0m \u001b[32m━━━━━━━━━━━━━━━━━━━━\u001b[0m\u001b[37m\u001b[0m \u001b[1m11s\u001b[0m 8ms/step - accuracy: 1.0000 - loss: 1.9508e-07 - val_accuracy: 1.0000 - val_loss: 1.6694e-10\n",
      "Epoch 7/30\n",
      "\u001b[1m1287/1287\u001b[0m \u001b[32m━━━━━━━━━━━━━━━━━━━━\u001b[0m\u001b[37m\u001b[0m \u001b[1m10s\u001b[0m 8ms/step - accuracy: 1.0000 - loss: 1.0536e-07 - val_accuracy: 1.0000 - val_loss: 5.5198e-11\n",
      "Epoch 8/30\n",
      "\u001b[1m1287/1287\u001b[0m \u001b[32m━━━━━━━━━━━━━━━━━━━━\u001b[0m\u001b[37m\u001b[0m \u001b[1m10s\u001b[0m 8ms/step - accuracy: 1.0000 - loss: 3.7458e-08 - val_accuracy: 1.0000 - val_loss: 2.1720e-11\n",
      "Epoch 9/30\n",
      "\u001b[1m1287/1287\u001b[0m \u001b[32m━━━━━━━━━━━━━━━━━━━━\u001b[0m\u001b[37m\u001b[0m \u001b[1m10s\u001b[0m 8ms/step - accuracy: 1.0000 - loss: 3.0159e-08 - val_accuracy: 1.0000 - val_loss: 8.1580e-12\n",
      "Epoch 10/30\n",
      "\u001b[1m1287/1287\u001b[0m \u001b[32m━━━━━━━━━━━━━━━━━━━━\u001b[0m\u001b[37m\u001b[0m \u001b[1m10s\u001b[0m 8ms/step - accuracy: 1.0000 - loss: 1.2789e-08 - val_accuracy: 1.0000 - val_loss: 3.0861e-12\n",
      "Epoch 11/30\n",
      "\u001b[1m1287/1287\u001b[0m \u001b[32m━━━━━━━━━━━━━━━━━━━━\u001b[0m\u001b[37m\u001b[0m \u001b[1m10s\u001b[0m 8ms/step - accuracy: 1.0000 - loss: 4.4515e-09 - val_accuracy: 1.0000 - val_loss: 1.5803e-12\n",
      "Epoch 12/30\n",
      "\u001b[1m1287/1287\u001b[0m \u001b[32m━━━━━━━━━━━━━━━━━━━━\u001b[0m\u001b[37m\u001b[0m \u001b[1m11s\u001b[0m 8ms/step - accuracy: 1.0000 - loss: 3.8311e-09 - val_accuracy: 1.0000 - val_loss: 4.4329e-13\n",
      "Epoch 13/30\n",
      "\u001b[1m1287/1287\u001b[0m \u001b[32m━━━━━━━━━━━━━━━━━━━━\u001b[0m\u001b[37m\u001b[0m \u001b[1m10s\u001b[0m 8ms/step - accuracy: 1.0000 - loss: 1.6985e-09 - val_accuracy: 1.0000 - val_loss: 1.8292e-13\n",
      "Epoch 14/30\n",
      "\u001b[1m1287/1287\u001b[0m \u001b[32m━━━━━━━━━━━━━━━━━━━━\u001b[0m\u001b[37m\u001b[0m \u001b[1m10s\u001b[0m 8ms/step - accuracy: 1.0000 - loss: 1.1053e-09 - val_accuracy: 1.0000 - val_loss: 7.9990e-14\n",
      "Epoch 15/30\n",
      "\u001b[1m1287/1287\u001b[0m \u001b[32m━━━━━━━━━━━━━━━━━━━━\u001b[0m\u001b[37m\u001b[0m \u001b[1m10s\u001b[0m 8ms/step - accuracy: 1.0000 - loss: 5.6465e-10 - val_accuracy: 1.0000 - val_loss: 4.8694e-14\n",
      "Epoch 16/30\n",
      "\u001b[1m1287/1287\u001b[0m \u001b[32m━━━━━━━━━━━━━━━━━━━━\u001b[0m\u001b[37m\u001b[0m \u001b[1m10s\u001b[0m 8ms/step - accuracy: 1.0000 - loss: 2.8663e-10 - val_accuracy: 1.0000 - val_loss: 2.9805e-14\n",
      "Epoch 17/30\n",
      "\u001b[1m1287/1287\u001b[0m \u001b[32m━━━━━━━━━━━━━━━━━━━━\u001b[0m\u001b[37m\u001b[0m \u001b[1m10s\u001b[0m 8ms/step - accuracy: 1.0000 - loss: 1.2558e-10 - val_accuracy: 1.0000 - val_loss: 2.1979e-14\n",
      "Epoch 18/30\n",
      "\u001b[1m1287/1287\u001b[0m \u001b[32m━━━━━━━━━━━━━━━━━━━━\u001b[0m\u001b[37m\u001b[0m \u001b[1m10s\u001b[0m 8ms/step - accuracy: 1.0000 - loss: 2.7883e-10 - val_accuracy: 1.0000 - val_loss: 9.9000e-15\n",
      "Epoch 19/30\n",
      "\u001b[1m1287/1287\u001b[0m \u001b[32m━━━━━━━━━━━━━━━━━━━━\u001b[0m\u001b[37m\u001b[0m \u001b[1m10s\u001b[0m 8ms/step - accuracy: 1.0000 - loss: 1.7440e-10 - val_accuracy: 1.0000 - val_loss: 6.3979e-15\n",
      "Epoch 20/30\n",
      "\u001b[1m1287/1287\u001b[0m \u001b[32m━━━━━━━━━━━━━━━━━━━━\u001b[0m\u001b[37m\u001b[0m \u001b[1m10s\u001b[0m 8ms/step - accuracy: 1.0000 - loss: 6.1834e-11 - val_accuracy: 1.0000 - val_loss: 5.2040e-15\n",
      "Epoch 21/30\n",
      "\u001b[1m1287/1287\u001b[0m \u001b[32m━━━━━━━━━━━━━━━━━━━━\u001b[0m\u001b[37m\u001b[0m \u001b[1m10s\u001b[0m 8ms/step - accuracy: 1.0000 - loss: 1.1769e-10 - val_accuracy: 1.0000 - val_loss: 3.3690e-15\n",
      "Epoch 22/30\n",
      "\u001b[1m1287/1287\u001b[0m \u001b[32m━━━━━━━━━━━━━━━━━━━━\u001b[0m\u001b[37m\u001b[0m \u001b[1m10s\u001b[0m 8ms/step - accuracy: 1.0000 - loss: 4.0760e-11 - val_accuracy: 1.0000 - val_loss: 1.8916e-15\n",
      "Epoch 23/30\n",
      "\u001b[1m1287/1287\u001b[0m \u001b[32m━━━━━━━━━━━━━━━━━━━━\u001b[0m\u001b[37m\u001b[0m \u001b[1m10s\u001b[0m 8ms/step - accuracy: 1.0000 - loss: 2.2238e-11 - val_accuracy: 1.0000 - val_loss: 1.6014e-15\n",
      "Epoch 24/30\n",
      "\u001b[1m1287/1287\u001b[0m \u001b[32m━━━━━━━━━━━━━━━━━━━━\u001b[0m\u001b[37m\u001b[0m \u001b[1m10s\u001b[0m 8ms/step - accuracy: 1.0000 - loss: 1.9440e-11 - val_accuracy: 1.0000 - val_loss: 1.4515e-15\n",
      "Epoch 25/30\n",
      "\u001b[1m1287/1287\u001b[0m \u001b[32m━━━━━━━━━━━━━━━━━━━━\u001b[0m\u001b[37m\u001b[0m \u001b[1m11s\u001b[0m 8ms/step - accuracy: 1.0000 - loss: 2.8984e-11 - val_accuracy: 1.0000 - val_loss: 1.1834e-15\n",
      "Epoch 26/30\n",
      "\u001b[1m1287/1287\u001b[0m \u001b[32m━━━━━━━━━━━━━━━━━━━━\u001b[0m\u001b[37m\u001b[0m \u001b[1m11s\u001b[0m 8ms/step - accuracy: 1.0000 - loss: 1.4458e-11 - val_accuracy: 1.0000 - val_loss: 1.0748e-15\n",
      "Epoch 27/30\n",
      "\u001b[1m1287/1287\u001b[0m \u001b[32m━━━━━━━━━━━━━━━━━━━━\u001b[0m\u001b[37m\u001b[0m \u001b[1m11s\u001b[0m 8ms/step - accuracy: 1.0000 - loss: 2.1396e-11 - val_accuracy: 1.0000 - val_loss: 9.2273e-16\n",
      "Epoch 28/30\n",
      "\u001b[1m1287/1287\u001b[0m \u001b[32m━━━━━━━━━━━━━━━━━━━━\u001b[0m\u001b[37m\u001b[0m \u001b[1m10s\u001b[0m 8ms/step - accuracy: 1.0000 - loss: 8.5417e-11 - val_accuracy: 1.0000 - val_loss: 5.8343e-16\n",
      "Epoch 29/30\n",
      "\u001b[1m1287/1287\u001b[0m \u001b[32m━━━━━━━━━━━━━━━━━━━━\u001b[0m\u001b[37m\u001b[0m \u001b[1m10s\u001b[0m 8ms/step - accuracy: 1.0000 - loss: 1.5084e-11 - val_accuracy: 1.0000 - val_loss: 5.0605e-16\n",
      "Epoch 30/30\n",
      "\u001b[1m1287/1287\u001b[0m \u001b[32m━━━━━━━━━━━━━━━━━━━━\u001b[0m\u001b[37m\u001b[0m \u001b[1m10s\u001b[0m 8ms/step - accuracy: 1.0000 - loss: 1.4219e-11 - val_accuracy: 1.0000 - val_loss: 4.5495e-16\n"
     ]
    }
   ],
   "source": [
    "history = model.fit(\n",
    "    X_train_processed, y_train,\n",
    "    validation_data=(X_test_processed, y_test),\n",
    "    epochs=30,\n",
    "    batch_size=64,\n",
    "    callbacks=[tf.keras.callbacks.EarlyStopping(patience=5, restore_best_weights=True)])\n"
   ]
  },
  {
   "cell_type": "markdown",
   "id": "ff3a77cd",
   "metadata": {
    "papermill": {
     "duration": 0.169383,
     "end_time": "2025-01-02T18:36:28.068106",
     "exception": false,
     "start_time": "2025-01-02T18:36:27.898723",
     "status": "completed"
    },
    "tags": []
   },
   "source": [
    "# Plot training & validation accuracy and loss\n",
    "## Accuracy plot\n"
   ]
  },
  {
   "cell_type": "code",
   "execution_count": 15,
   "id": "6e4337d0",
   "metadata": {
    "execution": {
     "iopub.execute_input": "2025-01-02T18:36:28.403789Z",
     "iopub.status.busy": "2025-01-02T18:36:28.403388Z",
     "iopub.status.idle": "2025-01-02T18:36:28.762955Z",
     "shell.execute_reply": "2025-01-02T18:36:28.761820Z"
    },
    "papermill": {
     "duration": 0.528901,
     "end_time": "2025-01-02T18:36:28.764696",
     "exception": false,
     "start_time": "2025-01-02T18:36:28.235795",
     "status": "completed"
    },
    "tags": []
   },
   "outputs": [
    {
     "data": {
      "image/png": "[encoded data removed]",
      "text/plain": [
       "<Figure size 1200x500 with 1 Axes>"
      ]
     },
     "metadata": {},
     "output_type": "display_data"
    }
   ],
   "source": [
    "plt.figure(figsize=(12, 5))\n",
    "\n",
    "plt.subplot(1, 2, 1)\n",
    "plt.plot(history.history['accuracy'], label='Train Accuracy', marker='o')\n",
    "plt.plot(history.history['val_accuracy'], label='Test Accuracy', marker='o')\n",
    "plt.title('Model Accuracy')\n",
    "plt.xlabel('Epoch')\n",
    "plt.ylabel('Accuracy')\n",
    "plt.legend()\n",
    "plt.grid(True)\n"
   ]
  },
  {
   "cell_type": "markdown",
   "id": "7f4c811f",
   "metadata": {
    "papermill": {
     "duration": 0.166399,
     "end_time": "2025-01-02T18:36:29.103639",
     "exception": false,
     "start_time": "2025-01-02T18:36:28.937240",
     "status": "completed"
    },
    "tags": []
   },
   "source": [
    "## Loss plot"
   ]
  },
  {
   "cell_type": "code",
   "execution_count": 16,
   "id": "5416b911",
   "metadata": {
    "execution": {
     "iopub.execute_input": "2025-01-02T18:36:29.446435Z",
     "iopub.status.busy": "2025-01-02T18:36:29.446077Z",
     "iopub.status.idle": "2025-01-02T18:36:29.809004Z",
     "shell.execute_reply": "2025-01-02T18:36:29.807905Z"
    },
    "papermill": {
     "duration": 0.536459,
     "end_time": "2025-01-02T18:36:29.810841",
     "exception": false,
     "start_time": "2025-01-02T18:36:29.274382",
     "status": "completed"
    },
    "tags": []
   },
   "outputs": [
    {
     "data": {
      "image/png": "[encoded data removed]",
      "text/plain": [
       "<Figure size 640x480 with 1 Axes>"
      ]
     },
     "metadata": {},
     "output_type": "display_data"
    }
   ],
   "source": [
    "# Loss plot\n",
    "plt.subplot(1, 2, 2)\n",
    "plt.plot(history.history['loss'], label='Train Loss', marker='o')\n",
    "plt.plot(history.history['val_loss'], label='Test Loss', marker='o')\n",
    "plt.title('Model Loss')\n",
    "plt.xlabel('Epoch')\n",
    "plt.ylabel('Loss')\n",
    "plt.legend()\n",
    "plt.grid(True)\n",
    "\n",
    "plt.tight_layout()\n",
    "plt.show()"
   ]
  },
  {
   "cell_type": "markdown",
   "id": "aae3c374",
   "metadata": {
    "papermill": {
     "duration": 0.169965,
     "end_time": "2025-01-02T18:36:30.209385",
     "exception": false,
     "start_time": "2025-01-02T18:36:30.039420",
     "status": "completed"
    },
    "tags": []
   },
   "source": [
    "# Save the model"
   ]
  },
  {
   "cell_type": "code",
   "execution_count": 17,
   "id": "924d183d",
   "metadata": {
    "execution": {
     "iopub.execute_input": "2025-01-02T18:36:30.550632Z",
     "iopub.status.busy": "2025-01-02T18:36:30.550232Z",
     "iopub.status.idle": "2025-01-02T18:36:30.587771Z",
     "shell.execute_reply": "2025-01-02T18:36:30.586656Z"
    },
    "papermill": {
     "duration": 0.211959,
     "end_time": "2025-01-02T18:36:30.589661",
     "exception": false,
     "start_time": "2025-01-02T18:36:30.377702",
     "status": "completed"
    },
    "tags": []
   },
   "outputs": [],
   "source": [
    "model.save(\"intrusion_detection_model.h5\")"
   ]
  }
 ],
 "metadata": {
  "kaggle": {
   "accelerator": "none",
   "dataSources": [
    {
     "datasetId": 111554,
     "sourceId": 267091,
     "sourceType": "datasetVersion"
    }
   ],
   "dockerImageVersionId": 30823,
   "isGpuEnabled": false,
   "isInternetEnabled": true,
   "language": "python",
   "sourceType": "notebook"
  },
  "kernelspec": {
   "display_name": "Python 3",
   "language": "python",
   "name": "python3"
  },
  "language_info": {
   "codemirror_mode": {
    "name": "ipython",
    "version": 3
   },
   "file_extension": ".py",
   "mimetype": "text/x-python",
   "name": "python",
   "nbconvert_exporter": "python",
   "pygments_lexer": "ipython3",
   "version": "3.10.12"
  },
  "papermill": {
   "default_parameters": {},
   "duration": 334.477423,
   "end_time": "2025-01-02T18:36:32.387190",
   "environment_variables": {},
   "exception": null,
   "input_path": "__notebook__.ipynb",
   "output_path": "__notebook__.ipynb",
   "parameters": {},
   "start_time": "2025-01-02T18:30:57.909767",
   "version": "2.6.0"
  }
 },
 "nbformat": 4,
 "nbformat_minor": 5
}
